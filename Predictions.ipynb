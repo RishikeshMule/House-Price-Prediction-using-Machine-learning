{
 "cells": [
  {
   "cell_type": "markdown",
   "metadata": {},
   "source": [
    "# Make Predictions"
   ]
  },
  {
   "cell_type": "code",
   "execution_count": 18,
   "metadata": {},
   "outputs": [
    {
     "name": "stdout",
     "output_type": "stream",
     "text": [
      "['', 'C:\\\\Users\\\\rishikem', 'C:\\\\Users\\\\rishikem\\\\Anaconda\\\\python37.zip', 'C:\\\\Users\\\\rishikem\\\\Anaconda\\\\DLLs', 'C:\\\\Users\\\\rishikem\\\\Anaconda\\\\lib', 'C:\\\\Users\\\\rishikem\\\\Anaconda', 'C:\\\\Users\\\\rishikem\\\\Anaconda\\\\lib\\\\site-packages', 'C:\\\\Users\\\\rishikem\\\\Anaconda\\\\lib\\\\site-packages\\\\win32', 'C:\\\\Users\\\\rishikem\\\\Anaconda\\\\lib\\\\site-packages\\\\win32\\\\lib', 'C:\\\\Users\\\\rishikem\\\\Anaconda\\\\lib\\\\site-packages\\\\Pythonwin', 'C:\\\\Users\\\\rishikem\\\\Anaconda\\\\lib\\\\site-packages\\\\IPython\\\\extensions', 'C:\\\\Users\\\\rishikem\\\\.ipython']\n"
     ]
    }
   ],
   "source": [
    "import sys, json\n",
    "print(sys.path)\n",
    "import numpy as np\n",
    "from sklearn.externals import joblib\n",
    "\n"
   ]
  },
  {
   "cell_type": "markdown",
   "metadata": {},
   "source": [
    "# Pass input data in form of json"
   ]
  },
  {
   "cell_type": "code",
   "execution_count": 19,
   "metadata": {},
   "outputs": [
    {
     "data": {
      "text/plain": [
       "'{\"data\":[1,3,1,500,2,2]}'"
      ]
     },
     "execution_count": 19,
     "metadata": {},
     "output_type": "execute_result"
    }
   ],
   "source": [
    "data = \"{\\\"data\\\":[1,3,1,500,2,2]}\"\n",
    "data"
   ]
  },
  {
   "cell_type": "code",
   "execution_count": 20,
   "metadata": {},
   "outputs": [],
   "source": [
    "data = json.loads(data)\n",
    "data = np.array(data['data'])\n"
   ]
  },
  {
   "cell_type": "markdown",
   "metadata": {},
   "source": [
    "## Load the model"
   ]
  },
  {
   "cell_type": "code",
   "execution_count": 12,
   "metadata": {},
   "outputs": [],
   "source": [
    "sav = joblib.load('C:/Rishi/Study/house_price_prediction_linear_reg_deployment/house_price.ml')\n"
   ]
  },
  {
   "cell_type": "code",
   "execution_count": 13,
   "metadata": {},
   "outputs": [
    {
     "data": {
      "text/plain": [
       "array([  1,   3,   1, 500,   2,   2])"
      ]
     },
     "execution_count": 13,
     "metadata": {},
     "output_type": "execute_result"
    }
   ],
   "source": [
    "data\n"
   ]
  },
  {
   "cell_type": "code",
   "execution_count": 14,
   "metadata": {},
   "outputs": [
    {
     "data": {
      "text/plain": [
       "array([[  1,   3,   1, 500,   2,   2]])"
      ]
     },
     "execution_count": 14,
     "metadata": {},
     "output_type": "execute_result"
    }
   ],
   "source": [
    "data.reshape(1,-1)"
   ]
  },
  {
   "cell_type": "code",
   "execution_count": 15,
   "metadata": {},
   "outputs": [],
   "source": [
    "pred = sav.predict(data.reshape(1,-1))\n"
   ]
  },
  {
   "cell_type": "code",
   "execution_count": 23,
   "metadata": {},
   "outputs": [
    {
     "name": "stdout",
     "output_type": "stream",
     "text": [
      "Prediction: 18,144\n"
     ]
    }
   ],
   "source": [
    "result = format(int(round(pred[0],0)),',')\n",
    "print(\"Prediction:\",result)"
   ]
  },
  {
   "cell_type": "markdown",
   "metadata": {},
   "source": [
    "## :)"
   ]
  }
 ],
 "metadata": {
  "kernelspec": {
   "display_name": "Python 3",
   "language": "python",
   "name": "python3"
  },
  "language_info": {
   "codemirror_mode": {
    "name": "ipython",
    "version": 3
   },
   "file_extension": ".py",
   "mimetype": "text/x-python",
   "name": "python",
   "nbconvert_exporter": "python",
   "pygments_lexer": "ipython3",
   "version": "3.7.0"
  }
 },
 "nbformat": 4,
 "nbformat_minor": 2
}
